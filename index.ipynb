{
 "cells": [
  {
   "cell_type": "code",
   "execution_count": 1,
   "metadata": {},
   "outputs": [
    {
     "data": {
      "text/plain": [
       "\u001b[32mimport \u001b[39m\u001b[36m$cp.$       \n",
       "\u001b[39m\n",
       "\u001b[32mimport \u001b[39m\u001b[36mjp.kobe_u.scarab._\n",
       "\u001b[39m\n",
       "\u001b[32mimport \u001b[39m\u001b[36mdsl._\u001b[39m"
      ]
     },
     "execution_count": 1,
     "metadata": {},
     "output_type": "execute_result"
    }
   ],
   "source": [
    "import $cp.`scarab`\n",
    "import jp.kobe_u.scarab._\n",
    "import dsl._"
   ]
  },
  {
   "cell_type": "code",
   "execution_count": 2,
   "metadata": {},
   "outputs": [
    {
     "data": {
      "text/plain": [
       "\u001b[36mres1_0\u001b[39m: \u001b[32mVar\u001b[39m = \u001b[33mVar\u001b[39m(\u001b[32m\"x\"\u001b[39m, \u001b[33mWrappedArray\u001b[39m())\n",
       "\u001b[36mres1_1\u001b[39m: \u001b[32mVar\u001b[39m = \u001b[33mVar\u001b[39m(\u001b[32m\"y\"\u001b[39m, \u001b[33mWrappedArray\u001b[39m())\n",
       "\u001b[36mres1_2\u001b[39m: \u001b[32mConstraint\u001b[39m = \u001b[33mEqZero\u001b[39m(\n",
       "  \u001b[33mSum\u001b[39m(\u001b[32m-3\u001b[39m, \u001b[33mMap\u001b[39m(\u001b[33mVar\u001b[39m(\u001b[32m\"x\"\u001b[39m, \u001b[33mWrappedArray\u001b[39m()) -> \u001b[32m1\u001b[39m, \u001b[33mVar\u001b[39m(\u001b[32m\"y\"\u001b[39m, \u001b[33mWrappedArray\u001b[39m()) -> \u001b[32m1\u001b[39m))\n",
       ")"
      ]
     },
     "execution_count": 2,
     "metadata": {},
     "output_type": "execute_result"
    }
   ],
   "source": [
    "reset",
    "int('x, 0, 9)\n",
    "int('y, 0, 9)\n",
    "add('x + 'y === 3)"
   ]
  },
  {
   "cell_type": "code",
   "execution_count": 3,
   "metadata": {},
   "outputs": [
    {
     "data": {
      "text/plain": [
       "\u001b[36mres2\u001b[39m: \u001b[32mBoolean\u001b[39m = true"
      ]
     },
     "execution_count": 3,
     "metadata": {},
     "output_type": "execute_result"
    }
   ],
   "source": [
    "find"
   ]
  },
  {
   "cell_type": "code",
   "execution_count": null,
   "metadata": {},
   "outputs": [],
   "source": []
  }
 ],
 "metadata": {
  "kernelspec": {
   "display_name": "Scala",
   "language": "scala",
   "name": "scala"
  },
  "language_info": {
   "codemirror_mode": "text/x-scala",
   "file_extension": ".scala",
   "mimetype": "text/x-scala",
   "name": "scala",
   "nbconvert_exporter": "script",
   "version": "2.12.8"
  }
 },
 "nbformat": 4,
 "nbformat_minor": 2
}
