{
 "cells": [
  {
   "cell_type": "markdown",
   "metadata": {},
   "source": [
    "-   This repository [Scarab4Binder](https://github.com/TakehideSoh/Scarab4Binder) is a fork from the repository. \n",
    "    -   [Almond Example](https://github.com/almond-sh/examples)\n",
    "        -   A collection of [Jupyter](http://jupyter.org/) notebooks showing what you can do with\n",
    "            the [Almond](https://almond.sh/) Scala kernel.\n",
    "\n",
    "-   Based on the above repository, this repository provises a binder\n",
    "    setting for running a constraint programming system [Scarab](https://tsoh.org/scarab/).\n",
    "\n",
    "-   Credits and Links to related software: \n",
    "    -   [Copris](http://bach.istc.kobe-u.ac.jp/copris/) is a constraint programming system on Scala. \n",
    "        -   [Copris Example](https://github.com/tamura70/copris-examples) is example Jupyter notebooks of a\n",
    "            constraint programming system Copris running on Almond Scala kernel.\n",
    "        -   index.ipynb is based on the one in this repository.\n",
    "    -   [Scala](https://www.scala-lang.org)\n",
    "    -   [Sat4j](https://www.scala-lang.org)\n",
    "    -   [Jupyter](http://jupyter.org/)\n",
    "    -   [Almond](https://almond.sh)\n",
    "    -   [Binder](https://mybinder.org)\n",
    "    -   [Sugar](http://bach.istc.kobe-u.ac.jp/sugar/)\n",
    "    -   [Scarab](https://tsoh.org/scarab/)"
   ]
  },
  {
   "cell_type": "code",
   "execution_count": null,
   "metadata": {},
   "outputs": [],
   "source": []
  }
 ],
 "metadata": {
  "kernelspec": {
   "display_name": "Scala",
   "language": "scala",
   "name": "scala"
  },
  "language_info": {
   "codemirror_mode": "text/x-scala",
   "file_extension": ".scala",
   "mimetype": "text/x-scala",
   "name": "scala",
   "nbconvert_exporter": "script",
   "version": "2.12.8"
  }
 },
 "nbformat": 4,
 "nbformat_minor": 2
}
