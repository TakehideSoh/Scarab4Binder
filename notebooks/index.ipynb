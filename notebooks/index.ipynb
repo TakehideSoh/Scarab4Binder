{
 "cells": [
  {
   "cell_type": "markdown",
   "metadata": {},
   "source": [
    "This page is for experiencing a SAT-based Constraint Programming system [Scarab](https://tsoh.org/scarab/index.html).  \n",
    "You can find its documents and details in [Scarab](https://tsoh.org/scarab/index.html).  \n",
    "\n",
    "このページはSAT型制約プログラミングシステム [Scarab](https://tsoh.org/scarab/jp/index.html) を体験するためのページです．  \n",
    "Scarab のチュートリアルは [URL](https://tsoh.org/scarab/jp/index.html) に REPL を使って行うものがあり，\n",
    "同様のチュートリアルをこのページでも行うことが可能です．  \n",
    "\n",
    "以下では必要なライブラリを import しています．  \n",
    "import 文を最初の1度だけ実行すれば Scarab および DSL のクラスが読み込まれます．  \n",
    "後は, reset をプログラムの区切り毎に記述すれば自由にプログラムが書けます．  \n",
    "\n",
    "(注意) ブラウザを閉じて10分以上経つとセッションは削除されます．プログラムを残したい場合は，こまめにダウンロードするようにしてください．  "
   ]
  },
  {
   "cell_type": "code",
   "execution_count": 7,
   "metadata": {},
   "outputs": [
    {
     "data": {
      "text/plain": [
       "\u001b[32mimport \u001b[39m\u001b[36m$cp.$       \n",
       "\u001b[39m\n",
       "\u001b[32mimport \u001b[39m\u001b[36mjp.kobe_u.scarab._\n",
       "\u001b[39m\n",
       "\u001b[32mimport \u001b[39m\u001b[36mdsl._\u001b[39m"
      ]
     },
     "execution_count": 7,
     "metadata": {},
     "output_type": "execute_result"
    }
   ],
   "source": [
    "import $cp.`scarab`\n",
    "import jp.kobe_u.scarab._\n",
    "import dsl._"
   ]
  },
  {
   "cell_type": "markdown",
   "metadata": {},
   "source": [
    "以下はプログラム例です.   \n",
    "  \n",
    "(1) 上の import 文をすでに実行して (run, 三角の再生ボタンを押して) いること  \n",
    "(2) reset を一番上に書くこと  \n",
    "  \n",
    "を行ってから実行することに注意してください．"
   ]
  },
  {
   "cell_type": "code",
   "execution_count": 10,
   "metadata": {},
   "outputs": [
    {
     "name": "stdout",
     "output_type": "stream",
     "text": [
      "(x,1)\n",
      "(y,2)\n"
     ]
    },
    {
     "data": {
      "text/plain": [
       "\u001b[36mres9_1\u001b[39m: \u001b[32mVar\u001b[39m = \u001b[33mVar\u001b[39m(\u001b[32m\"x\"\u001b[39m, \u001b[33mWrappedArray\u001b[39m())\n",
       "\u001b[36mres9_2\u001b[39m: \u001b[32mVar\u001b[39m = \u001b[33mVar\u001b[39m(\u001b[32m\"y\"\u001b[39m, \u001b[33mWrappedArray\u001b[39m())\n",
       "\u001b[36mres9_3\u001b[39m: \u001b[32mConstraint\u001b[39m = \u001b[33mEqZero\u001b[39m(\n",
       "  \u001b[33mSum\u001b[39m(\u001b[32m-3\u001b[39m, \u001b[33mMap\u001b[39m(\u001b[33mVar\u001b[39m(\u001b[32m\"x\"\u001b[39m, \u001b[33mWrappedArray\u001b[39m()) -> \u001b[32m1\u001b[39m, \u001b[33mVar\u001b[39m(\u001b[32m\"y\"\u001b[39m, \u001b[33mWrappedArray\u001b[39m()) -> \u001b[32m1\u001b[39m))\n",
       ")\n",
       "\u001b[36mres9_4\u001b[39m: \u001b[32mBoolean\u001b[39m = true"
      ]
     },
     "execution_count": 10,
     "metadata": {},
     "output_type": "execute_result"
    }
   ],
   "source": [
    "reset\n",
    "int('x, 0, 9)\n",
    "int('y, 0, 9)\n",
    "add('x + 'y === 3)\n",
    "\n",
    "find\n",
    "\n",
    "solution.intMap.foreach(println)"
   ]
  },
  {
   "cell_type": "markdown",
   "metadata": {},
   "source": [
    "別のプログラム例です. "
   ]
  },
  {
   "cell_type": "code",
   "execution_count": 9,
   "metadata": {},
   "outputs": [
    {
     "name": "stdout",
     "output_type": "stream",
     "text": [
      "(a,3)\n",
      "(b,0)\n",
      "(c,0)\n",
      "(d,2)\n"
     ]
    },
    {
     "data": {
      "text/plain": [
       "\u001b[36mres8_1\u001b[39m: \u001b[32mVar\u001b[39m = \u001b[33mVar\u001b[39m(\u001b[32m\"a\"\u001b[39m, \u001b[33mWrappedArray\u001b[39m())\n",
       "\u001b[36mres8_2\u001b[39m: \u001b[32mVar\u001b[39m = \u001b[33mVar\u001b[39m(\u001b[32m\"b\"\u001b[39m, \u001b[33mWrappedArray\u001b[39m())\n",
       "\u001b[36mres8_3\u001b[39m: \u001b[32mVar\u001b[39m = \u001b[33mVar\u001b[39m(\u001b[32m\"c\"\u001b[39m, \u001b[33mWrappedArray\u001b[39m())\n",
       "\u001b[36mres8_4\u001b[39m: \u001b[32mVar\u001b[39m = \u001b[33mVar\u001b[39m(\u001b[32m\"d\"\u001b[39m, \u001b[33mWrappedArray\u001b[39m())\n",
       "\u001b[36mres8_5\u001b[39m: \u001b[32mConstraint\u001b[39m = \u001b[33mEqZero\u001b[39m(\n",
       "  \u001b[33mSum\u001b[39m(\n",
       "    \u001b[32m-90\u001b[39m,\n",
       "    \u001b[33mMap\u001b[39m(\n",
       "      \u001b[33mVar\u001b[39m(\u001b[32m\"a\"\u001b[39m, \u001b[33mWrappedArray\u001b[39m()) -> \u001b[32m12\u001b[39m,\n",
       "      \u001b[33mVar\u001b[39m(\u001b[32m\"b\"\u001b[39m, \u001b[33mWrappedArray\u001b[39m()) -> \u001b[32m16\u001b[39m,\n",
       "      \u001b[33mVar\u001b[39m(\u001b[32m\"c\"\u001b[39m, \u001b[33mWrappedArray\u001b[39m()) -> \u001b[32m20\u001b[39m,\n",
       "      \u001b[33mVar\u001b[39m(\u001b[32m\"d\"\u001b[39m, \u001b[33mWrappedArray\u001b[39m()) -> \u001b[32m27\u001b[39m\n",
       "    )\n",
       "  )\n",
       ")\n",
       "\u001b[36mres8_6\u001b[39m: \u001b[32mBoolean\u001b[39m = true"
      ]
     },
     "execution_count": 9,
     "metadata": {},
     "output_type": "execute_result"
    }
   ],
   "source": [
    "reset\n",
    "\n",
    "int('a, 0, 10)\n",
    "int('b, 0, 10)\n",
    "int('c, 0, 10)\n",
    "int('d, 0, 10)\n",
    "\n",
    "add('a * 12 + 'b * 16 + 'c * 20 + 'd * 27 === 90)\n",
    "\n",
    "find\n",
    "\n",
    "solution.intMap.foreach(println)"
   ]
  },
  {
   "cell_type": "code",
   "execution_count": null,
   "metadata": {},
   "outputs": [],
   "source": []
  }
 ],
 "metadata": {
  "kernelspec": {
   "display_name": "Scala",
   "language": "scala",
   "name": "scala"
  },
  "language_info": {
   "codemirror_mode": "text/x-scala",
   "file_extension": ".scala",
   "mimetype": "text/x-scala",
   "name": "scala",
   "nbconvert_exporter": "script",
   "version": "2.12.8"
  }
 },
 "nbformat": 4,
 "nbformat_minor": 2
}
